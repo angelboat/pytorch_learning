{
  "cells": [
    {
      "cell_type": "markdown",
      "metadata": {
        "id": "view-in-github",
        "colab_type": "text"
      },
      "source": [
        "<a href=\"https://colab.research.google.com/github/angelboat/pytorch_learning/blob/main/_downloads/770632dd3941d2a51b831c52ded57aa2/trainingyt.ipynb\" target=\"_parent\"><img src=\"https://colab.research.google.com/assets/colab-badge.svg\" alt=\"Open In Colab\"/></a>"
      ]
    },
    {
      "cell_type": "code",
      "execution_count": 2,
      "metadata": {
        "id": "kLl1on27xgfU"
      },
      "outputs": [],
      "source": [
        "# For tips on running notebooks in Google Colab, see\n",
        "# https://pytorch.org/tutorials/beginner/colab\n",
        "%matplotlib inline"
      ]
    },
    {
      "cell_type": "markdown",
      "metadata": {
        "id": "hkoaUOBVxgfW"
      },
      "source": [
        "[Introduction](introyt1_tutorial.html) \\|\\|\n",
        "[Tensors](tensors_deeper_tutorial.html) \\|\\|\n",
        "[Autograd](autogradyt_tutorial.html) \\|\\| [Building\n",
        "Models](modelsyt_tutorial.html) \\|\\| [TensorBoard\n",
        "Support](tensorboardyt_tutorial.html) \\|\\| **Training Models** \\|\\|\n",
        "[Model Understanding](captumyt.html)\n",
        "\n",
        "Training with PyTorch\n",
        "=====================\n",
        "\n",
        "Follow along with the video below or on\n",
        "[youtube](https://www.youtube.com/watch?v=jF43_wj_DCQ).\n",
        "\n"
      ]
    },
    {
      "cell_type": "code",
      "execution_count": 3,
      "metadata": {
        "id": "e2331076",
        "outputId": "9ad84569-e973-41a0-98cc-31f5deb5c6fc",
        "colab": {
          "base_uri": "https://localhost:8080/",
          "height": 356
        }
      },
      "outputs": [
        {
          "output_type": "display_data",
          "data": {
            "text/plain": [
              "<IPython.core.display.HTML object>"
            ],
            "text/html": [
              "\n",
              "<div style=\"margin-top:10px; margin-bottom:10px;\">\n",
              "  <iframe width=\"560\" height=\"315\" src=\"https://www.youtube.com/embed/jF43_wj_DCQ\" frameborder=\"0\" allow=\"accelerometer; encrypted-media; gyroscope; picture-in-picture\" allowfullscreen></iframe>\n",
              "</div>\n"
            ]
          },
          "metadata": {}
        }
      ],
      "source": [
        "# Run this cell to load the video\n",
        "from IPython.display import display, HTML\n",
        "html_code = \"\"\"\n",
        "<div style=\"margin-top:10px; margin-bottom:10px;\">\n",
        "  <iframe width=\"560\" height=\"315\" src=\"https://www.youtube.com/embed/jF43_wj_DCQ\" frameborder=\"0\" allow=\"accelerometer; encrypted-media; gyroscope; picture-in-picture\" allowfullscreen></iframe>\n",
        "</div>\n",
        "\"\"\"\n",
        "display(HTML(html_code))"
      ]
    },
    {
      "cell_type": "markdown",
      "metadata": {
        "id": "ff93e60a"
      },
      "source": [
        "\n",
        "\n",
        "Introduction\n",
        "------------\n",
        "\n",
        "In past videos, we've discussed and demonstrated:\n",
        "\n",
        "-   Building models with the neural network layers and functions of the\n",
        "    torch.nn module\n",
        "-   The mechanics of automated gradient computation, which is central to\n",
        "    gradient-based model training\n",
        "-   Using TensorBoard to visualize training progress and other\n",
        "    activities\n",
        "\n",
        "In this video, we'll be adding some new tools to your inventory:\n",
        "\n",
        "-   We'll get familiar with the dataset and dataloader abstractions, and\n",
        "    how they ease the process of feeding data to your model during a\n",
        "    training loop\n",
        "-   We'll discuss specific loss functions and when to use them\n",
        "-   We'll look at PyTorch optimizers, which implement algorithms to\n",
        "    adjust model weights based on the outcome of a loss function\n",
        "\n",
        "Finally, we'll pull all of these together and see a full PyTorch\n",
        "training loop in action.\n",
        "\n",
        "Dataset and DataLoader\n",
        "----------------------\n",
        "\n",
        "The `Dataset` and `DataLoader` classes encapsulate the process of\n",
        "pulling your data from storage and exposing it to your training loop in\n",
        "batches.\n",
        "\n",
        "The `Dataset` is responsible for accessing and processing single\n",
        "instances of data.\n",
        "\n",
        "The `DataLoader` pulls instances of data from the `Dataset` (either\n",
        "automatically or with a sampler that you define), collects them in\n",
        "batches, and returns them for consumption by your training loop. The\n",
        "`DataLoader` works with all kinds of datasets, regardless of the type of\n",
        "data they contain.\n",
        "\n",
        "For this tutorial, we'll be using the Fashion-MNIST dataset provided by\n",
        "TorchVision. We use `torchvision.transforms.Normalize()` to zero-center\n",
        "and normalize the distribution of the image tile content, and download\n",
        "both training and validation data splits.\n"
      ]
    },
    {
      "cell_type": "code",
      "execution_count": 4,
      "metadata": {
        "id": "LSww6C54xgfb",
        "outputId": "2b5f0043-4e39-415c-eeeb-ff25692df449",
        "colab": {
          "base_uri": "https://localhost:8080/"
        }
      },
      "outputs": [
        {
          "output_type": "stream",
          "name": "stderr",
          "text": [
            "100%|██████████| 26.4M/26.4M [00:02<00:00, 13.2MB/s]\n",
            "100%|██████████| 29.5k/29.5k [00:00<00:00, 210kB/s]\n",
            "100%|██████████| 4.42M/4.42M [00:01<00:00, 3.90MB/s]\n",
            "100%|██████████| 5.15k/5.15k [00:00<00:00, 11.3MB/s]"
          ]
        },
        {
          "output_type": "stream",
          "name": "stdout",
          "text": [
            "Training set has 60000 instances\n",
            "Validation set has 10000 instances\n"
          ]
        },
        {
          "output_type": "stream",
          "name": "stderr",
          "text": [
            "\n"
          ]
        }
      ],
      "source": [
        "import torch\n",
        "import torchvision\n",
        "import torchvision.transforms as transforms\n",
        "\n",
        "# PyTorch TensorBoard support\n",
        "from torch.utils.tensorboard import SummaryWriter\n",
        "from datetime import datetime\n",
        "\n",
        "\n",
        "transform = transforms.Compose(\n",
        "    [transforms.ToTensor(),\n",
        "    transforms.Normalize((0.5,), (0.5,))])\n",
        "\n",
        "# Create datasets for training & validation, download if necessary\n",
        "training_set = torchvision.datasets.FashionMNIST('./data', train=True, transform=transform, download=True)\n",
        "validation_set = torchvision.datasets.FashionMNIST('./data', train=False, transform=transform, download=True)\n",
        "\n",
        "# Create data loaders for our datasets; shuffle for training, not for validation\n",
        "training_loader = torch.utils.data.DataLoader(training_set, batch_size=4, shuffle=True)\n",
        "validation_loader = torch.utils.data.DataLoader(validation_set, batch_size=4, shuffle=False)\n",
        "\n",
        "# Class labels\n",
        "classes = ('T-shirt/top', 'Trouser', 'Pullover', 'Dress', 'Coat',\n",
        "        'Sandal', 'Shirt', 'Sneaker', 'Bag', 'Ankle Boot')\n",
        "\n",
        "# Report split sizes\n",
        "print('Training set has {} instances'.format(len(training_set)))\n",
        "print('Validation set has {} instances'.format(len(validation_set)))"
      ]
    },
    {
      "cell_type": "markdown",
      "metadata": {
        "id": "XoVY5P2Lxgfb"
      },
      "source": [
        "As always, let's visualize the data as a sanity check:\n"
      ]
    },
    {
      "cell_type": "code",
      "execution_count": 5,
      "metadata": {
        "id": "PiqjZDAqxgfc",
        "outputId": "3c9d3258-3cbd-4eed-ea9b-d5d874ba371d",
        "colab": {
          "base_uri": "https://localhost:8080/",
          "height": 212
        }
      },
      "outputs": [
        {
          "output_type": "stream",
          "name": "stdout",
          "text": [
            "Dress  Shirt  Sandal  T-shirt/top\n"
          ]
        },
        {
          "output_type": "display_data",
          "data": {
            "text/plain": [
              "<Figure size 640x480 with 1 Axes>"
            ],
            "image/png": "[encoded data removed]"
          },
          "metadata": {}
        }
      ],
      "source": [
        "import matplotlib.pyplot as plt\n",
        "import numpy as np\n",
        "\n",
        "# Helper function for inline image display\n",
        "def matplotlib_imshow(img, one_channel=False):\n",
        "    if one_channel:\n",
        "        img = img.mean(dim=0)\n",
        "    img = img / 2 + 0.5     # unnormalize\n",
        "    npimg = img.numpy()\n",
        "    if one_channel:\n",
        "        plt.imshow(npimg, cmap=\"Greys\")\n",
        "    else:\n",
        "        plt.imshow(np.transpose(npimg, (1, 2, 0)))\n",
        "\n",
        "dataiter = iter(training_loader)\n",
        "images, labels = next(dataiter)\n",
        "\n",
        "# Create a grid from the images and show them\n",
        "img_grid = torchvision.utils.make_grid(images)\n",
        "matplotlib_imshow(img_grid, one_channel=True)\n",
        "print('  '.join(classes[labels[j]] for j in range(4)))"
      ]
    },
    {
      "cell_type": "markdown",
      "metadata": {
        "id": "5jLrUF6fxgfd"
      },
      "source": [
        "The Model\n",
        "=========\n",
        "\n",
        "The model we'll use in this example is a variant of LeNet-5 - it should\n",
        "be familiar if you've watched the previous videos in this series.\n"
      ]
    },
    {
      "cell_type": "code",
      "execution_count": 6,
      "metadata": {
        "id": "Gayp_BOTxgfe"
      },
      "outputs": [],
      "source": [
        "import torch.nn as nn\n",
        "import torch.nn.functional as F\n",
        "\n",
        "# PyTorch models inherit from torch.nn.Module\n",
        "class GarmentClassifier(nn.Module):\n",
        "    def __init__(self):\n",
        "        super(GarmentClassifier, self).__init__()\n",
        "        self.conv1 = nn.Conv2d(1, 6, 5)\n",
        "        self.pool = nn.MaxPool2d(2, 2)\n",
        "        self.conv2 = nn.Conv2d(6, 16, 5)\n",
        "        self.fc1 = nn.Linear(16 * 4 * 4, 120)\n",
        "        self.fc2 = nn.Linear(120, 84)\n",
        "        self.fc3 = nn.Linear(84, 10)\n",
        "\n",
        "    def forward(self, x):\n",
        "        x = self.pool(F.relu(self.conv1(x)))\n",
        "        x = self.pool(F.relu(self.conv2(x)))\n",
        "        x = x.view(-1, 16 * 4 * 4)\n",
        "        x = F.relu(self.fc1(x))\n",
        "        x = F.relu(self.fc2(x))\n",
        "        x = self.fc3(x)\n",
        "        return x\n",
        "\n",
        "\n",
        "model = GarmentClassifier()"
      ]
    },
    {
      "cell_type": "markdown",
      "metadata": {
        "id": "_SIzecERxgff"
      },
      "source": [
        "Loss Function\n",
        "=============\n",
        "\n",
        "For this example, we'll be using a cross-entropy loss. For demonstration\n",
        "purposes, we'll create batches of dummy output and label values, run\n",
        "them through the loss function, and examine the result.\n"
      ]
    },
    {
      "cell_type": "code",
      "execution_count": 7,
      "metadata": {
        "id": "WH1SvuG8xgfg",
        "outputId": "e9c02b24-2a15-42cc-b9d3-b6f6551c581f",
        "colab": {
          "base_uri": "https://localhost:8080/"
        }
      },
      "outputs": [
        {
          "output_type": "stream",
          "name": "stdout",
          "text": [
            "tensor([[0.0751, 0.7403, 0.2333, 0.5912, 0.6440, 0.5189, 0.1636, 0.7086, 0.7935,\n",
            "         0.4252],\n",
            "        [0.0104, 0.0861, 0.8498, 0.1246, 0.0515, 0.5251, 0.9809, 0.6696, 0.7801,\n",
            "         0.7238],\n",
            "        [0.6575, 0.5632, 0.2580, 0.7173, 0.8667, 0.4954, 0.4482, 0.0840, 0.1954,\n",
            "         0.9534],\n",
            "        [0.8759, 0.7088, 0.9203, 0.5249, 0.0371, 0.1467, 0.7088, 0.5751, 0.3452,\n",
            "         0.7306]])\n",
            "tensor([1, 5, 3, 7])\n",
            "Total loss for this batch: 2.2165727615356445\n"
          ]
        }
      ],
      "source": [
        "loss_fn = torch.nn.CrossEntropyLoss()\n",
        "\n",
        "# NB: Loss functions expect data in batches, so we're creating batches of 4\n",
        "# Represents the model's confidence in each of the 10 classes for a given input\n",
        "dummy_outputs = torch.rand(4, 10)\n",
        "# Represents the correct class among the 10 being tested\n",
        "dummy_labels = torch.tensor([1, 5, 3, 7])\n",
        "\n",
        "print(dummy_outputs)\n",
        "print(dummy_labels)\n",
        "\n",
        "loss = loss_fn(dummy_outputs, dummy_labels)\n",
        "print('Total loss for this batch: {}'.format(loss.item()))"
      ]
    },
    {
      "cell_type": "markdown",
      "metadata": {
        "id": "l1nKjHIaxgfg"
      },
      "source": [
        "Optimizer\n",
        "=========\n",
        "\n",
        "For this example, we'll be using simple [stochastic gradient\n",
        "descent](https://pytorch.org/docs/stable/optim.html) with momentum.\n",
        "\n",
        "It can be instructive to try some variations on this optimization\n",
        "scheme:\n",
        "\n",
        "-   Learning rate determines the size of the steps the optimizer takes.\n",
        "    What does a different learning rate do to the your training results,\n",
        "    in terms of accuracy and convergence time?\n",
        "-   Momentum nudges the optimizer in the direction of strongest gradient\n",
        "    over multiple steps. What does changing this value do to your\n",
        "    results?\n",
        "-   Try some different optimization algorithms, such as averaged SGD,\n",
        "    Adagrad, or Adam. How do your results differ?\n"
      ]
    },
    {
      "cell_type": "code",
      "execution_count": 8,
      "metadata": {
        "id": "IuEdIgVuxgfh"
      },
      "outputs": [],
      "source": [
        "# Optimizers specified in the torch.optim package\n",
        "optimizer = torch.optim.SGD(model.parameters(), lr=0.001, momentum=0.9)"
      ]
    },
    {
      "cell_type": "markdown",
      "metadata": {
        "id": "DaRQOS71xgfh"
      },
      "source": [
        "The Training Loop\n",
        "=================\n",
        "\n",
        "Below, we have a function that performs one training epoch. It\n",
        "enumerates data from the DataLoader, and on each pass of the loop does\n",
        "the following:\n",
        "\n",
        "-   Gets a batch of training data from the DataLoader\n",
        "-   Zeros the optimizer's gradients\n",
        "-   Performs an inference - that is, gets predictions from the model for\n",
        "    an input batch\n",
        "-   Calculates the loss for that set of predictions vs. the labels on\n",
        "    the dataset\n",
        "-   Calculates the backward gradients over the learning weights\n",
        "-   Tells the optimizer to perform one learning step - that is, adjust\n",
        "    the model's learning weights based on the observed gradients for\n",
        "    this batch, according to the optimization algorithm we chose\n",
        "-   It reports on the loss for every 1000 batches.\n",
        "-   Finally, it reports the average per-batch loss for the last 1000\n",
        "    batches, for comparison with a validation run\n"
      ]
    },
    {
      "cell_type": "code",
      "execution_count": 9,
      "metadata": {
        "id": "I_n5CYdExgfi"
      },
      "outputs": [],
      "source": [
        "def train_one_epoch(epoch_index, tb_writer):\n",
        "    running_loss = 0.\n",
        "    last_loss = 0.\n",
        "\n",
        "    # Here, we use enumerate(training_loader) instead of\n",
        "    # iter(training_loader) so that we can track the batch\n",
        "    # index and do some intra-epoch reporting\n",
        "    for i, data in enumerate(training_loader):\n",
        "        # Every data instance is an input + label pair\n",
        "        inputs, labels = data\n",
        "\n",
        "        # Zero your gradients for every batch!\n",
        "        optimizer.zero_grad()\n",
        "\n",
        "        # Make predictions for this batch\n",
        "        outputs = model(inputs)\n",
        "\n",
        "        # Compute the loss and its gradients\n",
        "        loss = loss_fn(outputs, labels)\n",
        "        loss.backward()\n",
        "\n",
        "        # Adjust learning weights\n",
        "        optimizer.step()\n",
        "\n",
        "        # Gather data and report\n",
        "        running_loss += loss.item()\n",
        "        if i % 1000 == 999:\n",
        "            last_loss = running_loss / 1000 # loss per batch\n",
        "            print('  batch {} loss: {}'.format(i + 1, last_loss))\n",
        "            tb_x = epoch_index * len(training_loader) + i + 1\n",
        "            tb_writer.add_scalar('Loss/train', last_loss, tb_x)\n",
        "            running_loss = 0.\n",
        "\n",
        "    return last_loss"
      ]
    },
    {
      "cell_type": "markdown",
      "metadata": {
        "id": "cRr6Xsprxgfj"
      },
      "source": [
        "Per-Epoch Activity\n",
        "==================\n",
        "\n",
        "There are a couple of things we'll want to do once per epoch:\n",
        "\n",
        "-   Perform validation by checking our relative loss on a set of data\n",
        "    that was not used for training, and report this\n",
        "-   Save a copy of the model\n",
        "\n",
        "Here, we'll do our reporting in TensorBoard. This will require going to\n",
        "the command line to start TensorBoard, and opening it in another browser\n",
        "tab.\n"
      ]
    },
    {
      "cell_type": "code",
      "execution_count": 10,
      "metadata": {
        "id": "CyBlAZyVxgfj",
        "outputId": "92226a8e-fc48-4bf0-d638-206413bdd114",
        "colab": {
          "base_uri": "https://localhost:8080/"
        }
      },
      "outputs": [
        {
          "output_type": "stream",
          "name": "stdout",
          "text": [
            "EPOCH 1:\n",
            "  batch 1000 loss: 1.671672756627202\n",
            "  batch 2000 loss: 0.7878360243197531\n",
            "  batch 3000 loss: 0.6896882618907839\n",
            "  batch 4000 loss: 0.6170445064743981\n",
            "  batch 5000 loss: 0.606153941469267\n",
            "  batch 6000 loss: 0.547510678244289\n",
            "  batch 7000 loss: 0.5131398744676262\n",
            "  batch 8000 loss: 0.5303499342235737\n",
            "  batch 9000 loss: 0.4828357269622502\n",
            "  batch 10000 loss: 0.4942508747103857\n",
            "  batch 11000 loss: 0.4693007219413994\n",
            "  batch 12000 loss: 0.45907080058552674\n",
            "  batch 13000 loss: 0.46008965160069054\n",
            "  batch 14000 loss: 0.45579896753441423\n",
            "  batch 15000 loss: 0.42258201360529346\n",
            "LOSS train 0.42258201360529346 valid 0.41497549414634705\n",
            "EPOCH 2:\n",
            "  batch 1000 loss: 0.4055041350772954\n",
            "  batch 2000 loss: 0.4037428456756752\n",
            "  batch 3000 loss: 0.40944420370389706\n",
            "  batch 4000 loss: 0.3936302458238497\n",
            "  batch 5000 loss: 0.3802907262923254\n",
            "  batch 6000 loss: 0.38503093640104635\n",
            "  batch 7000 loss: 0.38131490746422786\n",
            "  batch 8000 loss: 0.3699726725187065\n",
            "  batch 9000 loss: 0.38678081528456826\n",
            "  batch 10000 loss: 0.38076068936397495\n",
            "  batch 11000 loss: 0.37572205067719916\n",
            "  batch 12000 loss: 0.3658047710655373\n",
            "  batch 13000 loss: 0.369695094671566\n",
            "  batch 14000 loss: 0.3424897341071628\n",
            "  batch 15000 loss: 0.3495067095769191\n",
            "LOSS train 0.3495067095769191 valid 0.3641307055950165\n",
            "EPOCH 3:\n",
            "  batch 1000 loss: 0.3447547201865818\n",
            "  batch 2000 loss: 0.3303431649009217\n",
            "  batch 3000 loss: 0.33022422317654854\n",
            "  batch 4000 loss: 0.3502493477620683\n",
            "  batch 5000 loss: 0.31747045267326757\n",
            "  batch 6000 loss: 0.3138306798875674\n",
            "  batch 7000 loss: 0.3333666479760577\n",
            "  batch 8000 loss: 0.34982255880488083\n",
            "  batch 9000 loss: 0.33523853325733216\n",
            "  batch 10000 loss: 0.3138662133826001\n",
            "  batch 11000 loss: 0.3208482980857516\n",
            "  batch 12000 loss: 0.32776703362669923\n",
            "  batch 13000 loss: 0.3272152372460259\n",
            "  batch 14000 loss: 0.33088427176937696\n",
            "  batch 15000 loss: 0.330476376687584\n",
            "LOSS train 0.330476376687584 valid 0.334568589925766\n",
            "EPOCH 4:\n",
            "  batch 1000 loss: 0.28618465204438687\n",
            "  batch 2000 loss: 0.2941440943207708\n",
            "  batch 3000 loss: 0.30778614117645703\n",
            "  batch 4000 loss: 0.3073032242222689\n",
            "  batch 5000 loss: 0.3180362160004006\n",
            "  batch 6000 loss: 0.28448160623748847\n",
            "  batch 7000 loss: 0.3078094014025146\n",
            "  batch 8000 loss: 0.2856583174365369\n",
            "  batch 9000 loss: 0.299137869652076\n",
            "  batch 10000 loss: 0.3027582699443046\n",
            "  batch 11000 loss: 0.30659482107618535\n",
            "  batch 12000 loss: 0.284887321151582\n",
            "  batch 13000 loss: 0.3070955393902186\n",
            "  batch 14000 loss: 0.28565668724811255\n",
            "  batch 15000 loss: 0.3114866402049665\n",
            "LOSS train 0.3114866402049665 valid 0.3259736895561218\n",
            "EPOCH 5:\n",
            "  batch 1000 loss: 0.27655106992966105\n",
            "  batch 2000 loss: 0.27083175774987833\n",
            "  batch 3000 loss: 0.2828337495204178\n",
            "  batch 4000 loss: 0.2854893908855229\n",
            "  batch 5000 loss: 0.27489178579099827\n",
            "  batch 6000 loss: 0.29913606974686263\n",
            "  batch 7000 loss: 0.2763805669310905\n",
            "  batch 8000 loss: 0.28745532084959996\n",
            "  batch 9000 loss: 0.2824508769748354\n",
            "  batch 10000 loss: 0.2814429398754869\n",
            "  batch 11000 loss: 0.2904297791739227\n",
            "  batch 12000 loss: 0.2815800881615978\n",
            "  batch 13000 loss: 0.27573544022413987\n",
            "  batch 14000 loss: 0.2575195068552712\n",
            "  batch 15000 loss: 0.26323895436402744\n",
            "LOSS train 0.26323895436402744 valid 0.3236682713031769\n"
          ]
        }
      ],
      "source": [
        "# Initializing in a separate cell so we can easily add more epochs to the same run\n",
        "timestamp = datetime.now().strftime('%Y%m%d_%H%M%S')\n",
        "writer = SummaryWriter('runs/fashion_trainer_{}'.format(timestamp))\n",
        "epoch_number = 0\n",
        "\n",
        "EPOCHS = 5\n",
        "\n",
        "best_vloss = 1_000_000.\n",
        "\n",
        "for epoch in range(EPOCHS):\n",
        "    print('EPOCH {}:'.format(epoch_number + 1))\n",
        "\n",
        "    # Make sure gradient tracking is on, and do a pass over the data\n",
        "    model.train(True)\n",
        "    avg_loss = train_one_epoch(epoch_number, writer)\n",
        "\n",
        "\n",
        "    running_vloss = 0.0\n",
        "    # Set the model to evaluation mode, disabling dropout and using population\n",
        "    # statistics for batch normalization.\n",
        "    model.eval()\n",
        "\n",
        "    # Disable gradient computation and reduce memory consumption.\n",
        "    with torch.no_grad():\n",
        "        for i, vdata in enumerate(validation_loader):\n",
        "            vinputs, vlabels = vdata\n",
        "            voutputs = model(vinputs)\n",
        "            vloss = loss_fn(voutputs, vlabels)\n",
        "            running_vloss += vloss\n",
        "\n",
        "    avg_vloss = running_vloss / (i + 1)\n",
        "    print('LOSS train {} valid {}'.format(avg_loss, avg_vloss))\n",
        "\n",
        "    # Log the running loss averaged per batch\n",
        "    # for both training and validation\n",
        "    writer.add_scalars('Training vs. Validation Loss',\n",
        "                    { 'Training' : avg_loss, 'Validation' : avg_vloss },\n",
        "                    epoch_number + 1)\n",
        "    writer.flush()\n",
        "\n",
        "    # Track best performance, and save the model's state\n",
        "    if avg_vloss < best_vloss:\n",
        "        best_vloss = avg_vloss\n",
        "        model_path = 'model_{}_{}'.format(timestamp, epoch_number)\n",
        "        torch.save(model.state_dict(), model_path)\n",
        "\n",
        "    epoch_number += 1"
      ]
    },
    {
      "cell_type": "markdown",
      "metadata": {
        "id": "UnZbV89hxgfk"
      },
      "source": [
        "To load a saved version of the model:\n",
        "\n",
        "``` {.python}\n",
        "saved_model = GarmentClassifier()\n",
        "saved_model.load_state_dict(torch.load(PATH))\n",
        "```\n",
        "\n",
        "Once you've loaded the model, it's ready for whatever you need it for\n",
        "-more training, inference, or analysis.\n",
        "\n",
        "Note that if your model has constructor parameters that affect model\n",
        "structure, you'll need to provide them and configure the model\n",
        "identically to the state in which it was saved.\n",
        "\n",
        "Other Resources\n",
        "===============\n",
        "\n",
        "-   Docs on the [data\n",
        "    utilities](https://pytorch.org/docs/stable/data.html), including\n",
        "    Dataset and DataLoader, at pytorch.org\n",
        "-   A [note on the use of pinned\n",
        "    memory](https://pytorch.org/docs/stable/notes/cuda.html#cuda-memory-pinning)\n",
        "    for GPU training\n",
        "-   Documentation on the datasets available in\n",
        "    [TorchVision](https://pytorch.org/vision/stable/datasets.html),\n",
        "    [TorchText](https://pytorch.org/text/stable/datasets.html), and\n",
        "    [TorchAudio](https://pytorch.org/audio/stable/datasets.html)\n",
        "-   Documentation on the [loss\n",
        "    functions](https://pytorch.org/docs/stable/nn.html#loss-functions)\n",
        "    available in PyTorch\n",
        "-   Documentation on the [torch.optim\n",
        "    package](https://pytorch.org/docs/stable/optim.html), which includes\n",
        "    optimizers and related tools, such as learning rate scheduling\n",
        "-   A detailed [tutorial on saving and loading\n",
        "    models](https://pytorch.org/tutorials/beginner/saving_loading_models.html)\n",
        "-   The [Tutorials section of\n",
        "    pytorch.org](https://pytorch.org/tutorials/) contains tutorials on a\n",
        "    broad variety of training tasks, including classification in\n",
        "    different domains, generative adversarial networks, reinforcement\n",
        "    learning, and more\n"
      ]
    }
  ],
  "metadata": {
    "kernelspec": {
      "display_name": "Python 3",
      "language": "python",
      "name": "python3"
    },
    "language_info": {
      "codemirror_mode": {
        "name": "ipython",
        "version": 3
      },
      "file_extension": ".py",
      "mimetype": "text/x-python",
      "name": "python",
      "nbconvert_exporter": "python",
      "pygments_lexer": "ipython3",
      "version": "3.10.12"
    },
    "colab": {
      "provenance": [],
      "include_colab_link": true
    }
  },
  "nbformat": 4,
  "nbformat_minor": 0
}