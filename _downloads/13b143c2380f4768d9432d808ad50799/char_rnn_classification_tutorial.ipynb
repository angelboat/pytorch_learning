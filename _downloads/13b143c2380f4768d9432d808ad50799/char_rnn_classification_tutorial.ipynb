{
  "cells": [
    {
      "cell_type": "markdown",
      "metadata": {
        "id": "view-in-github",
        "colab_type": "text"
      },
      "source": [
        "<a href=\"https://colab.research.google.com/github/angelboat/pytorch_learning/blob/main/_downloads/13b143c2380f4768d9432d808ad50799/char_rnn_classification_tutorial.ipynb\" target=\"_parent\"><img src=\"https://colab.research.google.com/assets/colab-badge.svg\" alt=\"Open In Colab\"/></a>"
      ]
    },
    {
      "cell_type": "code",
      "execution_count": 1,
      "metadata": {
        "id": "O5F3yK7w006w"
      },
      "outputs": [],
      "source": [
        "# For tips on running notebooks in Google Colab, see\n",
        "# https://pytorch.org/tutorials/beginner/colab\n",
        "%matplotlib inline"
      ]
    },
    {
      "cell_type": "markdown",
      "metadata": {
        "id": "7Zk3YOSg006y"
      },
      "source": [
        "NLP From Scratch: Classifying Names with a Character-Level RNN\n",
        "==============================================================\n",
        "\n",
        "**Author**: [Sean Robertson](https://github.com/spro)\n",
        "\n",
        "This tutorials is part of a three-part series:\n",
        "\n",
        "-   [NLP From Scratch: Classifying Names with a Character-Level\n",
        "    RNN](https://pytorch.org/tutorials/intermediate/char_rnn_classification_tutorial.html)\n",
        "-   [NLP From Scratch: Generating Names with a Character-Level\n",
        "    RNN](https://pytorch.org/tutorials/intermediate/char_rnn_generation_tutorial.html)\n",
        "-   [NLP From Scratch: Translation with a Sequence to Sequence Network\n",
        "    and\n",
        "    Attention](https://pytorch.org/tutorials/intermediate/seq2seq_translation_tutorial.html)\n",
        "\n",
        "We will be building and training a basic character-level Recurrent\n",
        "Neural Network (RNN) to classify words. This tutorial, along with two\n",
        "other Natural Language Processing (NLP) \\\"from scratch\\\" tutorials\n",
        "`/intermediate/char_rnn_generation_tutorial`{.interpreted-text\n",
        "role=\"doc\"} and\n",
        "`/intermediate/seq2seq_translation_tutorial`{.interpreted-text\n",
        "role=\"doc\"}, show how to preprocess data to model NLP. In particular,\n",
        "these tutorials show how preprocessing to model NLP works at a low\n",
        "level.\n",
        "\n",
        "A character-level RNN reads words as a series of characters -outputting\n",
        "a prediction and \\\"hidden state\\\" at each step, feeding its previous\n",
        "hidden state into each next step. We take the final prediction to be the\n",
        "output, i.e. which class the word belongs to.\n",
        "\n",
        "Specifically, we\\'ll train on a few thousand surnames from 18 languages\n",
        "of origin, and predict which language a name is from based on the\n",
        "spelling.\n",
        "\n",
        "Recommended Preparation\n",
        "-----------------------\n",
        "\n",
        "Before starting this tutorial it is recommended that you have installed\n",
        "PyTorch, and have a basic understanding of Python programming language\n",
        "and Tensors:\n",
        "\n",
        "-   <https://pytorch.org/> For installation instructions\n",
        "-   `/beginner/deep_learning_60min_blitz`{.interpreted-text role=\"doc\"}\n",
        "    to get started with PyTorch in general and learn the basics of\n",
        "    Tensors\n",
        "-   `/beginner/pytorch_with_examples`{.interpreted-text role=\"doc\"} for\n",
        "    a wide and deep overview\n",
        "-   `/beginner/former_torchies_tutorial`{.interpreted-text role=\"doc\"}\n",
        "    if you are former Lua Torch user\n",
        "\n",
        "It would also be useful to know about RNNs and how they work:\n",
        "\n",
        "-   [The Unreasonable Effectiveness of Recurrent Neural\n",
        "    Networks](https://karpathy.github.io/2015/05/21/rnn-effectiveness/)\n",
        "    shows a bunch of real life examples\n",
        "-   [Understanding LSTM\n",
        "    Networks](https://colah.github.io/posts/2015-08-Understanding-LSTMs/)\n",
        "    is about LSTMs specifically but also informative about RNNs in\n",
        "    general\n"
      ]
    },
    {
      "cell_type": "markdown",
      "metadata": {
        "id": "98O02vfF0063"
      },
      "source": [
        "Preparing Torch\n",
        "===============\n",
        "\n",
        "Set up torch to default to the right device use GPU acceleration\n",
        "depending on your hardware (CPU or CUDA).\n"
      ]
    },
    {
      "cell_type": "code",
      "execution_count": 2,
      "metadata": {
        "id": "3PdZVVMt0064",
        "outputId": "054c7271-601c-4363-f6d3-54e232084b3c",
        "colab": {
          "base_uri": "https://localhost:8080/"
        }
      },
      "outputs": [
        {
          "output_type": "stream",
          "name": "stdout",
          "text": [
            "Using device = cpu\n"
          ]
        }
      ],
      "source": [
        "import torch\n",
        "\n",
        "# Check if CUDA is available\n",
        "device = torch.device('cpu')\n",
        "if torch.cuda.is_available():\n",
        "    device = torch.device('cuda')\n",
        "\n",
        "torch.set_default_device(device)\n",
        "print(f\"Using device = {torch.get_default_device()}\")"
      ]
    },
    {
      "cell_type": "markdown",
      "metadata": {
        "id": "atBLSgSR0065"
      },
      "source": [
        "Preparing the Data\n",
        "==================\n",
        "\n",
        "Download the data from\n",
        "[here](https://download.pytorch.org/tutorial/data.zip) and extract it to\n",
        "the current directory.\n",
        "\n",
        "Included in the `data/names` directory are 18 text files named as\n",
        "`[Language].txt`. Each file contains a bunch of names, one name per\n",
        "line, mostly romanized (but we still need to convert from Unicode to\n",
        "ASCII).\n",
        "\n",
        "The first step is to define and clean our data. Initially, we need to\n",
        "convert Unicode to plain ASCII to limit the RNN input layers. This is\n",
        "accomplished by converting Unicode strings to ASCII and allowing only a\n",
        "small set of allowed characters.\n"
      ]
    },
    {
      "cell_type": "code",
      "execution_count": 3,
      "metadata": {
        "id": "EzJgu5VX0066"
      },
      "outputs": [],
      "source": [
        "import string\n",
        "import unicodedata\n",
        "\n",
        "# We can use \"_\" to represent an out-of-vocabulary character, that is, any character we are not handling in our model\n",
        "allowed_characters = string.ascii_letters + \" .,;'\" + \"_\"\n",
        "n_letters = len(allowed_characters)\n",
        "\n",
        "# Turn a Unicode string to plain ASCII, thanks to https://stackoverflow.com/a/518232/2809427\n",
        "def unicodeToAscii(s):\n",
        "    return ''.join(\n",
        "        c for c in unicodedata.normalize('NFD', s)\n",
        "        if unicodedata.category(c) != 'Mn'\n",
        "        and c in allowed_characters\n",
        "    )"
      ]
    },
    {
      "cell_type": "markdown",
      "metadata": {
        "id": "fufKN4oe0068"
      },
      "source": [
        "Here\\'s an example of converting a unicode alphabet name to plain ASCII.\n",
        "This simplifies the input layer\n"
      ]
    },
    {
      "cell_type": "code",
      "execution_count": 4,
      "metadata": {
        "id": "TTk-7VA_0068",
        "outputId": "f7aa28f1-df8f-486d-bcbe-ede6e3877b51",
        "colab": {
          "base_uri": "https://localhost:8080/"
        }
      },
      "outputs": [
        {
          "output_type": "stream",
          "name": "stdout",
          "text": [
            "converting 'Ślusàrski' to Slusarski\n"
          ]
        }
      ],
      "source": [
        "print (f\"converting 'Ślusàrski' to {unicodeToAscii('Ślusàrski')}\")"
      ]
    },
    {
      "cell_type": "code",
      "source": [
        "print(string.ascii_letters, len(string.ascii_letters))\n",
        "s = 'Ślusàrski'\n",
        "for c in s:\n",
        "  print(c, unicodedata.normalize('NFD', c), unicodedata.category(c))"
      ],
      "metadata": {
        "id": "cF5XMJaq0KBD",
        "outputId": "309ff884-6db3-4cb1-dc64-17082d142dc3",
        "colab": {
          "base_uri": "https://localhost:8080/"
        }
      },
      "execution_count": 7,
      "outputs": [
        {
          "output_type": "stream",
          "name": "stdout",
          "text": [
            "abcdefghijklmnopqrstuvwxyzABCDEFGHIJKLMNOPQRSTUVWXYZ 52\n",
            "Ś Ś Lu\n",
            "l l Ll\n",
            "u u Ll\n",
            "s s Ll\n",
            "à à Ll\n",
            "r r Ll\n",
            "s s Ll\n",
            "k k Ll\n",
            "i i Ll\n"
          ]
        }
      ]
    },
    {
      "cell_type": "markdown",
      "metadata": {
        "id": "r3pIRNnT0069"
      },
      "source": [
        "Turning Names into Tensors\n",
        "==========================\n",
        "\n",
        "Now that we have all the names organized, we need to turn them into\n",
        "Tensors to make any use of them.\n",
        "\n",
        "To represent a single letter, we use a \\\"one-hot vector\\\" of size\n",
        "`<1 x n_letters>`. A one-hot vector is filled with 0s except for a 1 at\n",
        "index of the current letter, e.g. `\"b\" = <0 1 0 0 0 ...>`.\n",
        "\n",
        "To make a word we join a bunch of those into a 2D matrix\n",
        "`<line_length x 1 x n_letters>`.\n",
        "\n",
        "That extra 1 dimension is because PyTorch assumes everything is in\n",
        "batches - we\\'re just using a batch size of 1 here.\n"
      ]
    },
    {
      "cell_type": "code",
      "execution_count": 9,
      "metadata": {
        "id": "8QlYRFNw006-"
      },
      "outputs": [],
      "source": [
        "# Find letter index from all_letters, e.g. \"a\" = 0\n",
        "def letterToIndex(letter):\n",
        "    # return our out-of-vocabulary character if we encounter a letter unknown to our model\n",
        "    if letter not in allowed_characters:\n",
        "        return allowed_characters.find(\"_\")\n",
        "    else:\n",
        "        return allowed_characters.find(letter)\n",
        "\n",
        "# Turn a line into a <line_length x 1 x n_letters>,\n",
        "# or an array of one-hot letter vectors\n",
        "def lineToTensor(line):\n",
        "    tensor = torch.zeros(len(line), 1, n_letters)\n",
        "    for li, letter in enumerate(line):\n",
        "        tensor[li][0][letterToIndex(letter)] = 1\n",
        "    return tensor"
      ]
    },
    {
      "cell_type": "markdown",
      "metadata": {
        "id": "mBzTUzMM006_"
      },
      "source": [
        "Here are some examples of how to use `lineToTensor()` for a single and\n",
        "multiple character string.\n"
      ]
    },
    {
      "cell_type": "code",
      "execution_count": 10,
      "metadata": {
        "id": "v1m9Wj5a006_",
        "outputId": "554d68df-2ad4-442d-87a2-8a5e5974568c",
        "colab": {
          "base_uri": "https://localhost:8080/"
        }
      },
      "outputs": [
        {
          "output_type": "stream",
          "name": "stdout",
          "text": [
            "The letter 'a' becomes tensor([[[1., 0., 0., 0., 0., 0., 0., 0., 0., 0., 0., 0., 0., 0., 0., 0., 0.,\n",
            "          0., 0., 0., 0., 0., 0., 0., 0., 0., 0., 0., 0., 0., 0., 0., 0., 0.,\n",
            "          0., 0., 0., 0., 0., 0., 0., 0., 0., 0., 0., 0., 0., 0., 0., 0., 0.,\n",
            "          0., 0., 0., 0., 0., 0., 0.]]])\n",
            "The name 'Ahn' becomes tensor([[[0., 0., 0., 0., 0., 0., 0., 0., 0., 0., 0., 0., 0., 0., 0., 0., 0.,\n",
            "          0., 0., 0., 0., 0., 0., 0., 0., 0., 1., 0., 0., 0., 0., 0., 0., 0.,\n",
            "          0., 0., 0., 0., 0., 0., 0., 0., 0., 0., 0., 0., 0., 0., 0., 0., 0.,\n",
            "          0., 0., 0., 0., 0., 0., 0.]],\n",
            "\n",
            "        [[0., 0., 0., 0., 0., 0., 0., 1., 0., 0., 0., 0., 0., 0., 0., 0., 0.,\n",
            "          0., 0., 0., 0., 0., 0., 0., 0., 0., 0., 0., 0., 0., 0., 0., 0., 0.,\n",
            "          0., 0., 0., 0., 0., 0., 0., 0., 0., 0., 0., 0., 0., 0., 0., 0., 0.,\n",
            "          0., 0., 0., 0., 0., 0., 0.]],\n",
            "\n",
            "        [[0., 0., 0., 0., 0., 0., 0., 0., 0., 0., 0., 0., 0., 1., 0., 0., 0.,\n",
            "          0., 0., 0., 0., 0., 0., 0., 0., 0., 0., 0., 0., 0., 0., 0., 0., 0.,\n",
            "          0., 0., 0., 0., 0., 0., 0., 0., 0., 0., 0., 0., 0., 0., 0., 0., 0.,\n",
            "          0., 0., 0., 0., 0., 0., 0.]]])\n"
          ]
        }
      ],
      "source": [
        "print (f\"The letter 'a' becomes {lineToTensor('a')}\") #notice that the first position in the tensor = 1\n",
        "print (f\"The name 'Ahn' becomes {lineToTensor('Ahn')}\") #notice 'A' sets the 27th index to 1"
      ]
    },
    {
      "cell_type": "markdown",
      "metadata": {
        "id": "1aY7Q3zX007A"
      },
      "source": [
        "Congratulations, you have built the foundational tensor objects for this\n",
        "learning task! You can use a similar approach for other RNN tasks with\n",
        "text.\n",
        "\n",
        "Next, we need to combine all our examples into a dataset so we can\n",
        "train, test and validate our models. For this, we will use the [Dataset\n",
        "and\n",
        "DataLoader](https://pytorch.org/tutorials/beginner/basics/data_tutorial.html)\n",
        "classes to hold our dataset. Each Dataset needs to implement three\n",
        "functions: `__init__`, `__len__`, and `__getitem__`.\n"
      ]
    },
    {
      "cell_type": "code",
      "execution_count": 11,
      "metadata": {
        "id": "JqGJwgtE007A"
      },
      "outputs": [],
      "source": [
        "from io import open\n",
        "import glob\n",
        "import os\n",
        "import time\n",
        "\n",
        "import torch\n",
        "from torch.utils.data import Dataset\n",
        "\n",
        "class NamesDataset(Dataset):\n",
        "\n",
        "    def __init__(self, data_dir):\n",
        "        self.data_dir = data_dir #for provenance of the dataset\n",
        "        self.load_time = time.localtime #for provenance of the dataset\n",
        "        labels_set = set() #set of all classes\n",
        "\n",
        "        self.data = []\n",
        "        self.data_tensors = []\n",
        "        self.labels = []\n",
        "        self.labels_tensors = []\n",
        "\n",
        "        #read all the ``.txt`` files in the specified directory\n",
        "        text_files = glob.glob(os.path.join(data_dir, '*.txt'))\n",
        "        for filename in text_files:\n",
        "            label = os.path.splitext(os.path.basename(filename))[0]\n",
        "            labels_set.add(label)\n",
        "            lines = open(filename, encoding='utf-8').read().strip().split('\\n')\n",
        "            for name in lines:\n",
        "                self.data.append(name)\n",
        "                self.data_tensors.append(lineToTensor(name))\n",
        "                self.labels.append(label)\n",
        "\n",
        "        #Cache the tensor representation of the labels\n",
        "        self.labels_uniq = list(labels_set)\n",
        "        for idx in range(len(self.labels)):\n",
        "            temp_tensor = torch.tensor([self.labels_uniq.index(self.labels[idx])], dtype=torch.long)\n",
        "            self.labels_tensors.append(temp_tensor)\n",
        "\n",
        "    def __len__(self):\n",
        "        return len(self.data)\n",
        "\n",
        "    def __getitem__(self, idx):\n",
        "        data_item = self.data[idx]\n",
        "        data_label = self.labels[idx]\n",
        "        data_tensor = self.data_tensors[idx]\n",
        "        label_tensor = self.labels_tensors[idx]\n",
        "\n",
        "        return label_tensor, data_tensor, data_label, data_item"
      ]
    },
    {
      "cell_type": "markdown",
      "metadata": {
        "id": "tSdorxUk007A"
      },
      "source": [
        "Here we can load our example data into the `NamesDataset`\n"
      ]
    },
    {
      "cell_type": "code",
      "execution_count": 13,
      "metadata": {
        "id": "Xw7AfGFW007B",
        "outputId": "29dd4f93-8150-433d-bf8f-059266d186c5",
        "colab": {
          "base_uri": "https://localhost:8080/"
        }
      },
      "outputs": [
        {
          "output_type": "stream",
          "name": "stdout",
          "text": [
            "loaded 20074 items of data\n",
            "example = (tensor([5]), tensor([[[0., 0., 0., 0., 0., 0., 0., 0., 0., 0., 0., 0., 0., 0., 0., 0., 0.,\n",
            "          0., 0., 0., 0., 0., 0., 0., 0., 0., 1., 0., 0., 0., 0., 0., 0., 0.,\n",
            "          0., 0., 0., 0., 0., 0., 0., 0., 0., 0., 0., 0., 0., 0., 0., 0., 0.,\n",
            "          0., 0., 0., 0., 0., 0., 0.]],\n",
            "\n",
            "        [[0., 1., 0., 0., 0., 0., 0., 0., 0., 0., 0., 0., 0., 0., 0., 0., 0.,\n",
            "          0., 0., 0., 0., 0., 0., 0., 0., 0., 0., 0., 0., 0., 0., 0., 0., 0.,\n",
            "          0., 0., 0., 0., 0., 0., 0., 0., 0., 0., 0., 0., 0., 0., 0., 0., 0.,\n",
            "          0., 0., 0., 0., 0., 0., 0.]],\n",
            "\n",
            "        [[1., 0., 0., 0., 0., 0., 0., 0., 0., 0., 0., 0., 0., 0., 0., 0., 0.,\n",
            "          0., 0., 0., 0., 0., 0., 0., 0., 0., 0., 0., 0., 0., 0., 0., 0., 0.,\n",
            "          0., 0., 0., 0., 0., 0., 0., 0., 0., 0., 0., 0., 0., 0., 0., 0., 0.,\n",
            "          0., 0., 0., 0., 0., 0., 0.]],\n",
            "\n",
            "        [[0., 0., 0., 0., 0., 0., 0., 0., 0., 0., 0., 0., 0., 1., 0., 0., 0.,\n",
            "          0., 0., 0., 0., 0., 0., 0., 0., 0., 0., 0., 0., 0., 0., 0., 0., 0.,\n",
            "          0., 0., 0., 0., 0., 0., 0., 0., 0., 0., 0., 0., 0., 0., 0., 0., 0.,\n",
            "          0., 0., 0., 0., 0., 0., 0.]],\n",
            "\n",
            "        [[0., 0., 0., 1., 0., 0., 0., 0., 0., 0., 0., 0., 0., 0., 0., 0., 0.,\n",
            "          0., 0., 0., 0., 0., 0., 0., 0., 0., 0., 0., 0., 0., 0., 0., 0., 0.,\n",
            "          0., 0., 0., 0., 0., 0., 0., 0., 0., 0., 0., 0., 0., 0., 0., 0., 0.,\n",
            "          0., 0., 0., 0., 0., 0., 0.]],\n",
            "\n",
            "        [[0., 0., 0., 0., 0., 0., 0., 0., 0., 0., 0., 0., 0., 0., 1., 0., 0.,\n",
            "          0., 0., 0., 0., 0., 0., 0., 0., 0., 0., 0., 0., 0., 0., 0., 0., 0.,\n",
            "          0., 0., 0., 0., 0., 0., 0., 0., 0., 0., 0., 0., 0., 0., 0., 0., 0.,\n",
            "          0., 0., 0., 0., 0., 0., 0.]],\n",
            "\n",
            "        [[0., 0., 0., 0., 0., 0., 0., 0., 0., 0., 0., 0., 0., 1., 0., 0., 0.,\n",
            "          0., 0., 0., 0., 0., 0., 0., 0., 0., 0., 0., 0., 0., 0., 0., 0., 0.,\n",
            "          0., 0., 0., 0., 0., 0., 0., 0., 0., 0., 0., 0., 0., 0., 0., 0., 0.,\n",
            "          0., 0., 0., 0., 0., 0., 0.]],\n",
            "\n",
            "        [[1., 0., 0., 0., 0., 0., 0., 0., 0., 0., 0., 0., 0., 0., 0., 0., 0.,\n",
            "          0., 0., 0., 0., 0., 0., 0., 0., 0., 0., 0., 0., 0., 0., 0., 0., 0.,\n",
            "          0., 0., 0., 0., 0., 0., 0., 0., 0., 0., 0., 0., 0., 0., 0., 0., 0.,\n",
            "          0., 0., 0., 0., 0., 0., 0.]],\n",
            "\n",
            "        [[0., 0., 0., 0., 0., 0., 0., 0., 0., 0., 0., 0., 0., 0., 0., 0., 0.,\n",
            "          0., 0., 1., 0., 0., 0., 0., 0., 0., 0., 0., 0., 0., 0., 0., 0., 0.,\n",
            "          0., 0., 0., 0., 0., 0., 0., 0., 0., 0., 0., 0., 0., 0., 0., 0., 0.,\n",
            "          0., 0., 0., 0., 0., 0., 0.]],\n",
            "\n",
            "        [[0., 0., 0., 0., 0., 0., 0., 0., 0., 0., 0., 0., 0., 0., 1., 0., 0.,\n",
            "          0., 0., 0., 0., 0., 0., 0., 0., 0., 0., 0., 0., 0., 0., 0., 0., 0.,\n",
            "          0., 0., 0., 0., 0., 0., 0., 0., 0., 0., 0., 0., 0., 0., 0., 0., 0.,\n",
            "          0., 0., 0., 0., 0., 0., 0.]]]), 'Italian', 'Abandonato')\n"
          ]
        }
      ],
      "source": [
        "alldata = NamesDataset(\"data/names\")\n",
        "print(f\"loaded {len(alldata)} items of data\")\n",
        "print(f\"example = {alldata[0]}\")"
      ]
    },
    {
      "cell_type": "markdown",
      "metadata": {
        "id": "XqNRTwfE007B"
      },
      "source": [
        "Using the dataset object allows us to easily split the data into train and test sets. Here we create a 80/20\n",
        "\n",
        ":   split but the `torch.utils.data` has more useful utilities. Here we\n",
        "    specify a generator since we need to use the\n",
        "\n",
        "same device as PyTorch defaults to above.\n"
      ]
    },
    {
      "cell_type": "code",
      "execution_count": 14,
      "metadata": {
        "id": "kRKcBdYU007B",
        "outputId": "016590eb-2828-43d3-fefd-f6690d08d0c7",
        "colab": {
          "base_uri": "https://localhost:8080/"
        }
      },
      "outputs": [
        {
          "output_type": "stream",
          "name": "stdout",
          "text": [
            "train examples = 17063, validation examples = 3011\n"
          ]
        }
      ],
      "source": [
        "train_set, test_set = torch.utils.data.random_split(alldata, [.85, .15], generator=torch.Generator(device=device).manual_seed(2024))\n",
        "\n",
        "print(f\"train examples = {len(train_set)}, validation examples = {len(test_set)}\")"
      ]
    },
    {
      "cell_type": "markdown",
      "metadata": {
        "id": "77AhYFRS007B"
      },
      "source": [
        "Now we have a basic dataset containing **20074** examples where each\n",
        "example is a pairing of label and name. We have also split the dataset\n",
        "into training and testing so we can validate the model that we build.\n"
      ]
    },
    {
      "cell_type": "markdown",
      "metadata": {
        "id": "LUqisSPX007B"
      },
      "source": [
        "Creating the Network\n",
        "====================\n",
        "\n",
        "Before autograd, creating a recurrent neural network in Torch involved\n",
        "cloning the parameters of a layer over several timesteps. The layers\n",
        "held hidden state and gradients which are now entirely handled by the\n",
        "graph itself. This means you can implement a RNN in a very \\\"pure\\\" way,\n",
        "as regular feed-forward layers.\n",
        "\n",
        "This CharRNN class implements an RNN with three components. First, we\n",
        "use the [nn.RNN\n",
        "implementation](https://pytorch.org/docs/stable/generated/torch.nn.RNN.html).\n",
        "Next, we define a layer that maps the RNN hidden layers to our output.\n",
        "And finally, we apply a `softmax` function. Using `nn.RNN` leads to a\n",
        "significant improvement in performance, such as cuDNN-accelerated\n",
        "kernels, versus implementing each layer as a `nn.Linear`. It also\n",
        "simplifies the implementation in `forward()`.\n"
      ]
    },
    {
      "cell_type": "code",
      "execution_count": 15,
      "metadata": {
        "id": "6lxLbgzq007C"
      },
      "outputs": [],
      "source": [
        "import torch.nn as nn\n",
        "import torch.nn.functional as F\n",
        "\n",
        "class CharRNN(nn.Module):\n",
        "    def __init__(self, input_size, hidden_size, output_size):\n",
        "        super(CharRNN, self).__init__()\n",
        "\n",
        "        self.rnn = nn.RNN(input_size, hidden_size)\n",
        "        self.h2o = nn.Linear(hidden_size, output_size)\n",
        "        self.softmax = nn.LogSoftmax(dim=1)\n",
        "\n",
        "    def forward(self, line_tensor):\n",
        "        rnn_out, hidden = self.rnn(line_tensor)\n",
        "        output = self.h2o(hidden[0])\n",
        "        output = self.softmax(output)\n",
        "\n",
        "        return output"
      ]
    },
    {
      "cell_type": "markdown",
      "metadata": {
        "id": "l4QQkILf007C"
      },
      "source": [
        "We can then create an RNN with 58 input nodes, 128 hidden nodes, and 18\n",
        "outputs:\n"
      ]
    },
    {
      "cell_type": "code",
      "execution_count": 16,
      "metadata": {
        "id": "QRytpudl007C",
        "outputId": "5f38522a-50c3-42b8-c813-5c4bf8b3a39d",
        "colab": {
          "base_uri": "https://localhost:8080/"
        }
      },
      "outputs": [
        {
          "output_type": "stream",
          "name": "stdout",
          "text": [
            "CharRNN(\n",
            "  (rnn): RNN(58, 128)\n",
            "  (h2o): Linear(in_features=128, out_features=18, bias=True)\n",
            "  (softmax): LogSoftmax(dim=1)\n",
            ")\n"
          ]
        }
      ],
      "source": [
        "n_hidden = 128\n",
        "rnn = CharRNN(n_letters, n_hidden, len(alldata.labels_uniq))\n",
        "print(rnn)"
      ]
    },
    {
      "cell_type": "markdown",
      "metadata": {
        "id": "uWMaJh4d007D"
      },
      "source": [
        "After that we can pass our Tensor to the RNN to obtain a predicted\n",
        "output. Subsequently, we use a helper function, `label_from_output`, to\n",
        "derive a text label for the class.\n"
      ]
    },
    {
      "cell_type": "code",
      "execution_count": 17,
      "metadata": {
        "id": "G5pIyCGj007D",
        "outputId": "a2309d2f-3aff-4e25-88d4-5325d562fc35",
        "colab": {
          "base_uri": "https://localhost:8080/"
        }
      },
      "outputs": [
        {
          "output_type": "stream",
          "name": "stdout",
          "text": [
            "tensor([[-3.0177, -2.9653, -2.8447, -2.9964, -3.0125, -2.9057, -2.9837, -2.8628,\n",
            "         -2.8575, -2.9128, -2.9121, -2.7413, -2.7973, -2.9008, -2.8439, -2.9104,\n",
            "         -2.8001, -2.8162]], grad_fn=<LogSoftmaxBackward0>)\n",
            "('Spanish', 11)\n"
          ]
        }
      ],
      "source": [
        "def label_from_output(output, output_labels):\n",
        "    top_n, top_i = output.topk(1)\n",
        "    label_i = top_i[0].item()\n",
        "    return output_labels[label_i], label_i\n",
        "\n",
        "input = lineToTensor('Albert')\n",
        "output = rnn(input) #this is equivalent to ``output = rnn.forward(input)``\n",
        "print(output)\n",
        "print(label_from_output(output, alldata.labels_uniq))"
      ]
    },
    {
      "cell_type": "markdown",
      "metadata": {
        "id": "S2N4w8lM007D"
      },
      "source": [
        "Training\n",
        "========\n"
      ]
    },
    {
      "cell_type": "markdown",
      "metadata": {
        "id": "K4VEMkRQ007D"
      },
      "source": [
        "Training the Network\n",
        "====================\n",
        "\n",
        "Now all it takes to train this network is show it a bunch of examples,\n",
        "have it make guesses, and tell it if it\\'s wrong.\n",
        "\n",
        "We do this by defining a `train()` function which trains the model on a\n",
        "given dataset using minibatches. RNNs RNNs are trained similarly to\n",
        "other networks; therefore, for completeness, we include a batched\n",
        "training method here. The loop (`for i in batch`) computes the losses\n",
        "for each of the items in the batch before adjusting the weights. This\n",
        "operation is repeated until the number of epochs is reached.\n"
      ]
    },
    {
      "cell_type": "code",
      "execution_count": 19,
      "metadata": {
        "id": "7RU7HYHs007E"
      },
      "outputs": [],
      "source": [
        "import random\n",
        "import numpy as np\n",
        "\n",
        "def train(rnn, training_data, n_epoch = 10, n_batch_size = 64, report_every = 50, learning_rate = 0.2, criterion = nn.NLLLoss()):\n",
        "    \"\"\"\n",
        "    Learn on a batch of training_data for a specified number of iterations and reporting thresholds\n",
        "    \"\"\"\n",
        "    # Keep track of losses for plotting\n",
        "    current_loss = 0\n",
        "    all_losses = []\n",
        "    rnn.train()\n",
        "    optimizer = torch.optim.SGD(rnn.parameters(), lr=learning_rate)\n",
        "\n",
        "    start = time.time()\n",
        "    print(f\"training on data set with n = {len(training_data)}\")\n",
        "\n",
        "    for iter in range(1, n_epoch + 1):\n",
        "        rnn.zero_grad() # clear the gradients\n",
        "\n",
        "        # create some minibatches\n",
        "        # we cannot use dataloaders because each of our names is a different length\n",
        "        batches = list(range(len(training_data)))\n",
        "        random.shuffle(batches)\n",
        "        batches = np.array_split(batches, len(batches) //n_batch_size )\n",
        "\n",
        "        for idx, batch in enumerate(batches):\n",
        "            batch_loss = 0\n",
        "            for i in batch: #for each example in this batch\n",
        "                (label_tensor, text_tensor, label, text) = training_data[i]\n",
        "                output = rnn.forward(text_tensor)\n",
        "                loss = criterion(output, label_tensor)\n",
        "                batch_loss += loss\n",
        "\n",
        "            # optimize parameters\n",
        "            batch_loss.backward()\n",
        "            nn.utils.clip_grad_norm_(rnn.parameters(), 3)\n",
        "            optimizer.step()\n",
        "            optimizer.zero_grad()\n",
        "\n",
        "            current_loss += batch_loss.item() / len(batch)\n",
        "\n",
        "        all_losses.append(current_loss / len(batches) )\n",
        "        if iter % report_every == 0:\n",
        "            print(f\"{iter} ({iter / n_epoch:.0%}): \\t average batch loss = {all_losses[-1]}\")\n",
        "        current_loss = 0\n",
        "\n",
        "    return all_losses"
      ]
    },
    {
      "cell_type": "markdown",
      "metadata": {
        "id": "UdR4Jhdx007E"
      },
      "source": [
        "We can now train a dataset with minibatches for a specified number of\n",
        "epochs. The number of epochs for this example is reduced to speed up the\n",
        "build. You can get better results with different parameters.\n"
      ]
    },
    {
      "cell_type": "code",
      "execution_count": 20,
      "metadata": {
        "id": "7nNefwF5007E",
        "outputId": "07cc622e-68b3-4c86-d8e3-f76ecbdffbf3",
        "colab": {
          "base_uri": "https://localhost:8080/"
        }
      },
      "outputs": [
        {
          "output_type": "stream",
          "name": "stdout",
          "text": [
            "training on data set with n = 17063\n",
            "5 (19%): \t average batch loss = 0.8802140629260508\n",
            "10 (37%): \t average batch loss = 0.6953454794430057\n",
            "15 (56%): \t average batch loss = 0.5813683408802132\n",
            "20 (74%): \t average batch loss = 0.5010091273149636\n",
            "25 (93%): \t average batch loss = 0.4379555584206755\n",
            "training took 590.0561063289642s\n"
          ]
        }
      ],
      "source": [
        "start = time.time()\n",
        "all_losses = train(rnn, train_set, n_epoch=27, learning_rate=0.15, report_every=5)\n",
        "end = time.time()\n",
        "print(f\"training took {end-start}s\")"
      ]
    },
    {
      "cell_type": "markdown",
      "metadata": {
        "id": "hLO3GQPi007F"
      },
      "source": [
        "Plotting the Results\n",
        "====================\n",
        "\n",
        "Plotting the historical loss from `all_losses` shows the network\n",
        "learning:\n"
      ]
    },
    {
      "cell_type": "code",
      "execution_count": 21,
      "metadata": {
        "id": "gJ_jekmI007F",
        "outputId": "62e9f959-7e4c-4a1c-c6cd-ed390d0079eb",
        "colab": {
          "base_uri": "https://localhost:8080/",
          "height": 430
        }
      },
      "outputs": [
        {
          "output_type": "display_data",
          "data": {
            "text/plain": [
              "<Figure size 640x480 with 1 Axes>"
            ],
            "image/png": "[encoded data removed]"
          },
          "metadata": {}
        }
      ],
      "source": [
        "import matplotlib.pyplot as plt\n",
        "import matplotlib.ticker as ticker\n",
        "\n",
        "plt.figure()\n",
        "plt.plot(all_losses)\n",
        "plt.show()"
      ]
    },
    {
      "cell_type": "markdown",
      "metadata": {
        "id": "B5oUHNmG007F"
      },
      "source": [
        "Evaluating the Results\n",
        "======================\n",
        "\n",
        "To see how well the network performs on different categories, we will\n",
        "create a confusion matrix, indicating for every actual language (rows)\n",
        "which language the network guesses (columns). To calculate the confusion\n",
        "matrix a bunch of samples are run through the network with `evaluate()`,\n",
        "which is the same as `train()` minus the backprop.\n"
      ]
    },
    {
      "cell_type": "code",
      "execution_count": 22,
      "metadata": {
        "id": "wPKD6LKS007G",
        "outputId": "cc4006f9-7e02-4428-8dca-f534adb75eea",
        "colab": {
          "base_uri": "https://localhost:8080/",
          "height": 506
        }
      },
      "outputs": [
        {
          "output_type": "display_data",
          "data": {
            "text/plain": [
              "<Figure size 640x480 with 2 Axes>"
            ],
            "image/png": "[encoded data removed]"
          },
          "metadata": {}
        }
      ],
      "source": [
        "def evaluate(rnn, testing_data, classes):\n",
        "    confusion = torch.zeros(len(classes), len(classes))\n",
        "\n",
        "    rnn.eval() #set to eval mode\n",
        "    with torch.no_grad(): # do not record the gradients during eval phase\n",
        "        for i in range(len(testing_data)):\n",
        "            (label_tensor, text_tensor, label, text) = testing_data[i]\n",
        "            output = rnn(text_tensor)\n",
        "            guess, guess_i = label_from_output(output, classes)\n",
        "            label_i = classes.index(label)\n",
        "            confusion[label_i][guess_i] += 1\n",
        "\n",
        "    # Normalize by dividing every row by its sum\n",
        "    for i in range(len(classes)):\n",
        "        denom = confusion[i].sum()\n",
        "        if denom > 0:\n",
        "            confusion[i] = confusion[i] / denom\n",
        "\n",
        "    # Set up plot\n",
        "    fig = plt.figure()\n",
        "    ax = fig.add_subplot(111)\n",
        "    cax = ax.matshow(confusion.cpu().numpy()) #numpy uses cpu here so we need to use a cpu version\n",
        "    fig.colorbar(cax)\n",
        "\n",
        "    # Set up axes\n",
        "    ax.set_xticks(np.arange(len(classes)), labels=classes, rotation=90)\n",
        "    ax.set_yticks(np.arange(len(classes)), labels=classes)\n",
        "\n",
        "    # Force label at every tick\n",
        "    ax.xaxis.set_major_locator(ticker.MultipleLocator(1))\n",
        "    ax.yaxis.set_major_locator(ticker.MultipleLocator(1))\n",
        "\n",
        "    # sphinx_gallery_thumbnail_number = 2\n",
        "    plt.show()\n",
        "\n",
        "\n",
        "\n",
        "evaluate(rnn, test_set, classes=alldata.labels_uniq)"
      ]
    },
    {
      "cell_type": "markdown",
      "metadata": {
        "id": "j6xbIed5007H"
      },
      "source": [
        "You can pick out bright spots off the main axis that show which\n",
        "languages it guesses incorrectly, e.g. Chinese for Korean, and Spanish\n",
        "for Italian. It seems to do very well with Greek, and very poorly with\n",
        "English (perhaps because of overlap with other languages).\n"
      ]
    },
    {
      "cell_type": "markdown",
      "metadata": {
        "id": "irhImjFx007H"
      },
      "source": [
        "Exercises\n",
        "=========\n",
        "\n",
        "-   Get better results with a bigger and/or better shaped network\n",
        "    -   Adjust the hyperparameters to enhance performance, such as\n",
        "        changing the number of epochs, batch size, and learning rate\n",
        "    -   Try the `nn.LSTM` and `nn.GRU` layers\n",
        "    -   Modify the size of the layers, such as increasing or decreasing\n",
        "        the number of hidden nodes or adding additional linear layers\n",
        "    -   Combine multiple of these RNNs as a higher level network\n",
        "-   Try with a different dataset of line -\\> label, for example:\n",
        "    -   Any word -\\> language\n",
        "    -   First name -\\> gender\n",
        "    -   Character name -\\> writer\n",
        "    -   Page title -\\> blog or subreddit\n"
      ]
    }
  ],
  "metadata": {
    "kernelspec": {
      "display_name": "Python 3",
      "language": "python",
      "name": "python3"
    },
    "language_info": {
      "codemirror_mode": {
        "name": "ipython",
        "version": 3
      },
      "file_extension": ".py",
      "mimetype": "text/x-python",
      "name": "python",
      "nbconvert_exporter": "python",
      "pygments_lexer": "ipython3",
      "version": "3.10.12"
    },
    "colab": {
      "provenance": [],
      "include_colab_link": true
    }
  },
  "nbformat": 4,
  "nbformat_minor": 0
}