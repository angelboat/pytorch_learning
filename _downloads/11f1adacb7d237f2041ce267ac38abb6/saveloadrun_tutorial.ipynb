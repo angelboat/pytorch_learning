{
  "cells": [
    {
      "cell_type": "markdown",
      "metadata": {
        "id": "view-in-github",
        "colab_type": "text"
      },
      "source": [
        "<a href=\"https://colab.research.google.com/github/angelboat/pytorch_learning/blob/main/_downloads/11f1adacb7d237f2041ce267ac38abb6/saveloadrun_tutorial.ipynb\" target=\"_parent\"><img src=\"https://colab.research.google.com/assets/colab-badge.svg\" alt=\"Open In Colab\"/></a>"
      ]
    },
    {
      "cell_type": "code",
      "execution_count": 1,
      "metadata": {
        "id": "V8fjn4cxbrI3"
      },
      "outputs": [],
      "source": [
        "# For tips on running notebooks in Google Colab, see\n",
        "# https://pytorch.org/tutorials/beginner/colab\n",
        "%matplotlib inline"
      ]
    },
    {
      "cell_type": "markdown",
      "metadata": {
        "id": "8Zrfwq2LbrI5"
      },
      "source": [
        "[Learn the Basics](intro.html) \\|\\|\n",
        "[Quickstart](quickstart_tutorial.html) \\|\\|\n",
        "[Tensors](tensorqs_tutorial.html) \\|\\| [Datasets &\n",
        "DataLoaders](data_tutorial.html) \\|\\|\n",
        "[Transforms](transforms_tutorial.html) \\|\\| [Build\n",
        "Model](buildmodel_tutorial.html) \\|\\|\n",
        "[Autograd](autogradqs_tutorial.html) \\|\\|\n",
        "[Optimization](optimization_tutorial.html) \\|\\| **Save & Load Model**\n",
        "\n",
        "Save and Load the Model\n",
        "=======================\n",
        "\n",
        "In this section we will look at how to persist model state with saving,\n",
        "loading and running model predictions.\n"
      ]
    },
    {
      "cell_type": "code",
      "execution_count": 2,
      "metadata": {
        "id": "QMIylrkhbrI6"
      },
      "outputs": [],
      "source": [
        "import torch\n",
        "import torchvision.models as models"
      ]
    },
    {
      "cell_type": "markdown",
      "metadata": {
        "id": "Z6gDtm_RbrI9"
      },
      "source": [
        "Saving and Loading Model Weights\n",
        "================================\n",
        "\n",
        "PyTorch models store the learned parameters in an internal state\n",
        "dictionary, called `state_dict`. These can be persisted via the\n",
        "`torch.save` method:\n"
      ]
    },
    {
      "cell_type": "code",
      "execution_count": 14,
      "metadata": {
        "id": "Jzc21PaebrI_"
      },
      "outputs": [],
      "source": [
        "model = models.vgg16(weights='IMAGENET1K_V1')\n",
        "torch.save(model.state_dict(), 'model_weights.pth')"
      ]
    },
    {
      "cell_type": "code",
      "source": [
        "conv1 = model.features[0]  # 第0层是Conv2d(3, 64, ...)\n",
        "weights = conv1.weight     # 权重张量，形状 [64, 3, 3, 3]\n",
        "print(weights.shape)\n",
        "print(weights[0])  # 打印第一个输出通道的所有权重"
      ],
      "metadata": {
        "id": "dgkdsK_vfx73",
        "outputId": "ad2b922d-bd7c-4773-83c2-e9acad0ad958",
        "colab": {
          "base_uri": "https://localhost:8080/"
        }
      },
      "execution_count": 15,
      "outputs": [
        {
          "output_type": "stream",
          "name": "stdout",
          "text": [
            "torch.Size([64, 3, 3, 3])\n",
            "tensor([[[-0.5537,  0.1427,  0.5290],\n",
            "         [-0.5831,  0.3566,  0.7657],\n",
            "         [-0.6902, -0.0480,  0.4841]],\n",
            "\n",
            "        [[ 0.1755,  0.0099, -0.0814],\n",
            "         [ 0.0441, -0.0703, -0.2604],\n",
            "         [ 0.1324, -0.1728, -0.1323]],\n",
            "\n",
            "        [[ 0.3130, -0.1659, -0.4275],\n",
            "         [ 0.4752, -0.0827, -0.4870],\n",
            "         [ 0.6320,  0.0193, -0.2775]]], grad_fn=<SelectBackward0>)\n"
          ]
        }
      ]
    },
    {
      "cell_type": "markdown",
      "metadata": {
        "id": "b3CO2W7dbrJA"
      },
      "source": [
        "To load model weights, you need to create an instance of the same model\n",
        "first, and then load the parameters using `load_state_dict()` method.\n",
        "\n",
        "In the code below, we set `weights_only=True` to limit the functions\n",
        "executed during unpickling to only those necessary for loading weights.\n",
        "Using `weights_only=True` is considered a best practice when loading\n",
        "weights.\n"
      ]
    },
    {
      "cell_type": "code",
      "execution_count": 16,
      "metadata": {
        "id": "V45MCH-wbrJA",
        "outputId": "9263b181-ea9a-40ff-8df0-dbc299aa59ab",
        "colab": {
          "base_uri": "https://localhost:8080/"
        }
      },
      "outputs": [
        {
          "output_type": "execute_result",
          "data": {
            "text/plain": [
              "VGG(\n",
              "  (features): Sequential(\n",
              "    (0): Conv2d(3, 64, kernel_size=(3, 3), stride=(1, 1), padding=(1, 1))\n",
              "    (1): ReLU(inplace=True)\n",
              "    (2): Conv2d(64, 64, kernel_size=(3, 3), stride=(1, 1), padding=(1, 1))\n",
              "    (3): ReLU(inplace=True)\n",
              "    (4): MaxPool2d(kernel_size=2, stride=2, padding=0, dilation=1, ceil_mode=False)\n",
              "    (5): Conv2d(64, 128, kernel_size=(3, 3), stride=(1, 1), padding=(1, 1))\n",
              "    (6): ReLU(inplace=True)\n",
              "    (7): Conv2d(128, 128, kernel_size=(3, 3), stride=(1, 1), padding=(1, 1))\n",
              "    (8): ReLU(inplace=True)\n",
              "    (9): MaxPool2d(kernel_size=2, stride=2, padding=0, dilation=1, ceil_mode=False)\n",
              "    (10): Conv2d(128, 256, kernel_size=(3, 3), stride=(1, 1), padding=(1, 1))\n",
              "    (11): ReLU(inplace=True)\n",
              "    (12): Conv2d(256, 256, kernel_size=(3, 3), stride=(1, 1), padding=(1, 1))\n",
              "    (13): ReLU(inplace=True)\n",
              "    (14): Conv2d(256, 256, kernel_size=(3, 3), stride=(1, 1), padding=(1, 1))\n",
              "    (15): ReLU(inplace=True)\n",
              "    (16): MaxPool2d(kernel_size=2, stride=2, padding=0, dilation=1, ceil_mode=False)\n",
              "    (17): Conv2d(256, 512, kernel_size=(3, 3), stride=(1, 1), padding=(1, 1))\n",
              "    (18): ReLU(inplace=True)\n",
              "    (19): Conv2d(512, 512, kernel_size=(3, 3), stride=(1, 1), padding=(1, 1))\n",
              "    (20): ReLU(inplace=True)\n",
              "    (21): Conv2d(512, 512, kernel_size=(3, 3), stride=(1, 1), padding=(1, 1))\n",
              "    (22): ReLU(inplace=True)\n",
              "    (23): MaxPool2d(kernel_size=2, stride=2, padding=0, dilation=1, ceil_mode=False)\n",
              "    (24): Conv2d(512, 512, kernel_size=(3, 3), stride=(1, 1), padding=(1, 1))\n",
              "    (25): ReLU(inplace=True)\n",
              "    (26): Conv2d(512, 512, kernel_size=(3, 3), stride=(1, 1), padding=(1, 1))\n",
              "    (27): ReLU(inplace=True)\n",
              "    (28): Conv2d(512, 512, kernel_size=(3, 3), stride=(1, 1), padding=(1, 1))\n",
              "    (29): ReLU(inplace=True)\n",
              "    (30): MaxPool2d(kernel_size=2, stride=2, padding=0, dilation=1, ceil_mode=False)\n",
              "  )\n",
              "  (avgpool): AdaptiveAvgPool2d(output_size=(7, 7))\n",
              "  (classifier): Sequential(\n",
              "    (0): Linear(in_features=25088, out_features=4096, bias=True)\n",
              "    (1): ReLU(inplace=True)\n",
              "    (2): Dropout(p=0.5, inplace=False)\n",
              "    (3): Linear(in_features=4096, out_features=4096, bias=True)\n",
              "    (4): ReLU(inplace=True)\n",
              "    (5): Dropout(p=0.5, inplace=False)\n",
              "    (6): Linear(in_features=4096, out_features=1000, bias=True)\n",
              "  )\n",
              ")"
            ]
          },
          "metadata": {},
          "execution_count": 16
        }
      ],
      "source": [
        "model = models.vgg16() # we do not specify ``weights``, i.e. create untrained model\n",
        "model.load_state_dict(torch.load('model_weights.pth', weights_only=True))\n",
        "model.eval()"
      ]
    },
    {
      "cell_type": "code",
      "source": [
        "conv1 = model.features[0]  # 第0层是Conv2d(3, 64, ...)\n",
        "weights = conv1.weight     # 权重张量，形状 [64, 3, 3, 3]\n",
        "print(weights.shape)\n",
        "print(weights[0])  # 打印第一个输出通道的所有权重\n"
      ],
      "metadata": {
        "id": "Rqh_dOkyf-_8",
        "outputId": "ca7b0c32-a255-4141-f00c-180d85fd003b",
        "colab": {
          "base_uri": "https://localhost:8080/"
        }
      },
      "execution_count": 17,
      "outputs": [
        {
          "output_type": "stream",
          "name": "stdout",
          "text": [
            "torch.Size([64, 3, 3, 3])\n",
            "tensor([[[-0.5537,  0.1427,  0.5290],\n",
            "         [-0.5831,  0.3566,  0.7657],\n",
            "         [-0.6902, -0.0480,  0.4841]],\n",
            "\n",
            "        [[ 0.1755,  0.0099, -0.0814],\n",
            "         [ 0.0441, -0.0703, -0.2604],\n",
            "         [ 0.1324, -0.1728, -0.1323]],\n",
            "\n",
            "        [[ 0.3130, -0.1659, -0.4275],\n",
            "         [ 0.4752, -0.0827, -0.4870],\n",
            "         [ 0.6320,  0.0193, -0.2775]]], grad_fn=<SelectBackward0>)\n"
          ]
        }
      ]
    },
    {
      "cell_type": "markdown",
      "metadata": {
        "id": "A_nEEnYZbrJB"
      },
      "source": [
        "<div style=\"background-color: #54c7ec; color: #fff; font-weight: 700; padding-left: 10px; padding-top: 5px; padding-bottom: 5px\"><strong>NOTE:</strong></div>\n",
        "\n",
        "<div style=\"background-color: #f3f4f7; padding-left: 10px; padding-top: 10px; padding-bottom: 10px; padding-right: 10px\">\n",
        "\n",
        "<p>be sure to call <code>model.eval()</code> method before inferencing to set the dropout and batch normalization layers to evaluation mode. Failing to do this will yield inconsistent inference results.</p>\n",
        "\n",
        "</div>\n",
        "\n"
      ]
    },
    {
      "cell_type": "markdown",
      "metadata": {
        "id": "R4JywOMObrJD"
      },
      "source": [
        "Saving and Loading Models with Shapes\n",
        "=====================================\n",
        "\n",
        "When loading model weights, we needed to instantiate the model class\n",
        "first, because the class defines the structure of a network. We might\n",
        "want to save the structure of this class together with the model, in\n",
        "which case we can pass `model` (and not `model.state_dict()`) to the\n",
        "saving function:\n"
      ]
    },
    {
      "cell_type": "code",
      "execution_count": 5,
      "metadata": {
        "id": "Dx1ZzP1PbrJF"
      },
      "outputs": [],
      "source": [
        "torch.save(model, 'model.pth')"
      ]
    },
    {
      "cell_type": "markdown",
      "metadata": {
        "id": "Cytw4YzbbrJG"
      },
      "source": [
        "We can then load the model as demonstrated below.\n",
        "\n",
        "As described in [Saving and loading\n",
        "torch.nn.Modules](https://pytorch.org/docs/main/notes/serialization.html#saving-and-loading-torch-nn-modules),\n",
        "saving `state_dict` is considered the best practice. However, below we\n",
        "use `weights_only=False` because this involves loading the model, which\n",
        "is a legacy use case for `torch.save`.\n"
      ]
    },
    {
      "cell_type": "code",
      "execution_count": 18,
      "metadata": {
        "id": "AaPw3Q3obrJG"
      },
      "outputs": [],
      "source": [
        "model = torch.load('model.pth', weights_only=False),"
      ]
    },
    {
      "cell_type": "code",
      "source": [
        "conv1 = model[0].features[0]  # 第0层是Conv2d(3, 64, ...)\n",
        "weights = conv1.weight     # 权重张量，形状 [64, 3, 3, 3]\n",
        "print(weights.shape)\n",
        "print(weights[0])  # 打印第一个输出通道的所有权重\n"
      ],
      "metadata": {
        "id": "vurZ1e_ygJ_c",
        "outputId": "6a3a1c85-f26b-4242-d9b9-c8e62998751e",
        "colab": {
          "base_uri": "https://localhost:8080/"
        }
      },
      "execution_count": 23,
      "outputs": [
        {
          "output_type": "stream",
          "name": "stdout",
          "text": [
            "torch.Size([64, 3, 3, 3])\n",
            "tensor([[[-0.5537,  0.1427,  0.5290],\n",
            "         [-0.5831,  0.3566,  0.7657],\n",
            "         [-0.6902, -0.0480,  0.4841]],\n",
            "\n",
            "        [[ 0.1755,  0.0099, -0.0814],\n",
            "         [ 0.0441, -0.0703, -0.2604],\n",
            "         [ 0.1324, -0.1728, -0.1323]],\n",
            "\n",
            "        [[ 0.3130, -0.1659, -0.4275],\n",
            "         [ 0.4752, -0.0827, -0.4870],\n",
            "         [ 0.6320,  0.0193, -0.2775]]], grad_fn=<SelectBackward0>)\n"
          ]
        }
      ]
    },
    {
      "cell_type": "markdown",
      "metadata": {
        "id": "SgivN7kMbrJG"
      },
      "source": [
        "<div style=\"background-color: #54c7ec; color: #fff; font-weight: 700; padding-left: 10px; padding-top: 5px; padding-bottom: 5px\"><strong>NOTE:</strong></div>\n",
        "\n",
        "<div style=\"background-color: #f3f4f7; padding-left: 10px; padding-top: 10px; padding-bottom: 10px; padding-right: 10px\">\n",
        "\n",
        "<p>This approach uses Python <a href=\"https://docs.python.org/3/library/pickle.html\">pickle</a> module when serializing the model, thus it relies on the actual class definition to be available when loading the model.</p>\n",
        "\n",
        "</div>\n",
        "\n"
      ]
    },
    {
      "cell_type": "markdown",
      "metadata": {
        "id": "MqprghoCbrJG"
      },
      "source": [
        "Related Tutorials\n",
        "=================\n",
        "\n",
        "-   [Saving and Loading a General Checkpoint in\n",
        "    PyTorch](https://pytorch.org/tutorials/recipes/recipes/saving_and_loading_a_general_checkpoint.html)\n",
        "-   [Tips for loading an nn.Module from a\n",
        "    checkpoint](https://pytorch.org/tutorials/recipes/recipes/module_load_state_dict_tips.html?highlight=loading%20nn%20module%20from%20checkpoint)\n"
      ]
    }
  ],
  "metadata": {
    "kernelspec": {
      "display_name": "Python 3",
      "language": "python",
      "name": "python3"
    },
    "language_info": {
      "codemirror_mode": {
        "name": "ipython",
        "version": 3
      },
      "file_extension": ".py",
      "mimetype": "text/x-python",
      "name": "python",
      "nbconvert_exporter": "python",
      "pygments_lexer": "ipython3",
      "version": "3.10.12"
    },
    "colab": {
      "provenance": [],
      "include_colab_link": true
    }
  },
  "nbformat": 4,
  "nbformat_minor": 0
}